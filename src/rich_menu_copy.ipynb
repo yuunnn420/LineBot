{
 "cells": [
  {
   "cell_type": "code",
   "execution_count": null,
   "metadata": {},
   "outputs": [],
   "source": [
    "import os\n",
    "import requests, json\n",
    "from linebot import LineBotApi, WebhookHandler"
   ]
  },
  {
   "cell_type": "code",
   "execution_count": null,
   "metadata": {},
   "outputs": [],
   "source": [
    "headers = {'Authorization': \"Bearer <channel-access-token>\", # need change\n",
    "            'Content-Type':'application/json'}\n",
    "body = {\n",
    "    'size': {'width': 2500, 'height': 843},    # 設定尺寸\n",
    "    'selected': 'true',                        # 預設是否顯示\n",
    "    'name': 'menu',                            # 選單名稱\n",
    "    'chatBarText': 'Menu',                     # 選單在 LINE 顯示的標題\n",
    "    'areas':[                                  # 選單內容\n",
    "        {\n",
    "          'bounds': {'x': 0, 'y': 0, 'width': 833, 'height': 843}, # 選單位置與大小\n",
    "          'action': {\"type\": \"postback\",\n",
    "            \"label\": \"chat\",\n",
    "            \"data\": \"chat\"}                \n",
    "        },\n",
    "        {\n",
    "          'bounds': {'x': 833, 'y': 0, 'width': 833, 'height': 843},\n",
    "          'action': {\"type\": \"postback\",\n",
    "            \"label\": \"image generation\",\n",
    "            \"data\": \"image generatoin\"}\n",
    "        },\n",
    "        {\n",
    "          'bounds': {'x': 1666, 'y': 0, 'width': 833, 'height': 843},\n",
    "          'action': {\"type\": \"postback\",\n",
    "            \"label\": \"cloud vision\",\n",
    "            \"data\": \"cloud vision\"}\n",
    "        },\n",
    "    ]\n",
    "  }\n",
    "req = requests.request('POST', 'https://api.line.me/v2/bot/richmenu',\n",
    "                      headers=headers,data=json.dumps(body).encode('utf-8'))\n",
    "print(req.text)"
   ]
  },
  {
   "cell_type": "code",
   "execution_count": null,
   "metadata": {},
   "outputs": [],
   "source": [
    "richMenuId = \"<previous cell output>\" # need change"
   ]
  },
  {
   "cell_type": "code",
   "execution_count": null,
   "metadata": {},
   "outputs": [],
   "source": [
    "line_bot_api = LineBotApi(\"<channel-access-token>\") # need change\n",
    "with open('D:\\\\code_python\\\\LineBot\\\\img\\\\linerichmenu.jpg', 'rb') as f:\n",
    "    line_bot_api.set_rich_menu_image(richMenuId, 'image/jpeg', f)\n",
    "req = requests.request('POST', 'https://api.line.me/v2/bot/user/all/richmenu/'+richMenuId, headers=headers)\n",
    "print(req.text) # sucess: {}"
   ]
  },
  {
   "cell_type": "markdown",
   "metadata": {},
   "source": [
    "delete"
   ]
  },
  {
   "cell_type": "code",
   "execution_count": null,
   "metadata": {},
   "outputs": [],
   "source": [
    "headers = {'Authorization':'Bearer <channel-access-token>'} # need change\n",
    "req = requests.request('DELETE', 'https://api.line.me/v2/bot/user/all/richmenu', headers=headers)\n",
    "print(req.text) # sucess: {}"
   ]
  }
 ],
 "metadata": {
  "kernelspec": {
   "display_name": "Python 3.10.8 ('linebot')",
   "language": "python",
   "name": "python3"
  },
  "language_info": {
   "codemirror_mode": {
    "name": "ipython",
    "version": 3
   },
   "file_extension": ".py",
   "mimetype": "text/x-python",
   "name": "python",
   "nbconvert_exporter": "python",
   "pygments_lexer": "ipython3",
   "version": "3.10.8"
  },
  "orig_nbformat": 4,
  "vscode": {
   "interpreter": {
    "hash": "704b6f2bf70a47d975ecb67ff6a4e367071ebebc2c48a483790b1010fbc9e3d2"
   }
  }
 },
 "nbformat": 4,
 "nbformat_minor": 2
}
